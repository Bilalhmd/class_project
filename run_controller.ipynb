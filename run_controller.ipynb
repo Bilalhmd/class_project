{
 "cells": [
  {
   "cell_type": "code",
   "execution_count": 1,
   "metadata": {},
   "outputs": [],
   "source": [
    "import swarm_controllers as sc"
   ]
  },
  {
   "cell_type": "code",
   "execution_count": 19,
   "metadata": {},
   "outputs": [],
   "source": [
    "#resets the world\n",
    "sc.reset_world()"
   ]
  },
  {
   "cell_type": "code",
   "execution_count": null,
   "metadata": {},
   "outputs": [],
   "source": [
    "#runs the controllers on each robots\n",
    "sc.run()"
   ]
  },
  {
   "cell_type": "code",
   "execution_count": 3,
   "metadata": {},
   "outputs": [],
   "source": [
    "#get an interface to robot0\n",
    "robot0 = sc.gazebo_swarm.GazeboRobotIface(0)"
   ]
  },
  {
   "cell_type": "code",
   "execution_count": 4,
   "metadata": {},
   "outputs": [
    {
     "name": "stdout",
     "output_type": "stream",
     "text": [
      "[['left_dist_sensor', [inf, inf, inf, inf, inf, inf, inf, inf, inf, inf]], ['right_dist_sensor', [inf, inf, inf, inf, inf, inf, inf, inf, inf, inf]], ['front_dist_sensor', [inf, inf, inf, inf, inf, 0.8271340498014774, inf, inf, inf, 0.838893960965338, 0.839493945561829, inf, inf, inf, 0.8271073957507338, inf, inf, inf, inf, inf]]]\n"
     ]
    }
   ],
   "source": [
    "#get the distance sensors of robot 0 and print\n",
    "dist = robot0.get_distance_sensors()\n",
    "print dist"
   ]
  },
  {
   "cell_type": "code",
   "execution_count": 20,
   "metadata": {},
   "outputs": [
    {
     "name": "stdout",
     "output_type": "stream",
     "text": [
      "[[1, [0.9999304452480074, 2.573328839360655e-07, -0.011794287915613781]], [2, [1.8800170419735543e-06, 0.9999999836493819, 0.00018117480470439753]], [3, [0.9999323249549616, 1.0000002409006525, -0.011613112945726771]], [4, [3.7594535047134906e-06, 1.9999999671720066, 0.00036234974376659924]]]\n"
     ]
    }
   ],
   "source": [
    "#get the neighbors of robot0\n",
    "neighbors = robot0.get_neighbors()\n",
    "print neighbors"
   ]
  },
  {
   "cell_type": "code",
   "execution_count": 30,
   "metadata": {},
   "outputs": [
    {
     "name": "stdout",
     "output_type": "stream",
     "text": [
      "[-53.833541403203995, -53.83534549167766, -0.9999382377148719, -0.9999382377079578]\n"
     ]
    }
   ],
   "source": [
    "#get the wheel state of robot0\n",
    "wheel = robot0.get_wheel_state()\n",
    "print wheel"
   ]
  },
  {
   "cell_type": "code",
   "execution_count": 31,
   "metadata": {},
   "outputs": [],
   "source": [
    "#send a command to robot0\n",
    "command = [0.,0.]\n",
    "robot0.set_wheel_velocity(command)"
   ]
  },
  {
   "cell_type": "code",
   "execution_count": 32,
   "metadata": {},
   "outputs": [
    {
     "name": "stdout",
     "output_type": "stream",
     "text": [
      "[-0.7335587918622278, 0.02835476333955979, 0.0008178131744515683]\n"
     ]
    }
   ],
   "source": [
    "#get the GPS position of robot 0\n",
    "gps_position = robot0.get_gps()\n",
    "print gps_position"
   ]
  },
  {
   "cell_type": "code",
   "execution_count": 12,
   "metadata": {},
   "outputs": [
    {
     "name": "stdout",
     "output_type": "stream",
     "text": [
      "[[1, [0.0, 100.0]], [2, [1.0]], [1, [10.0, 10.0, 10.0]], [1, [10.0, 10.0, 15.0]]]\n",
      "[]\n"
     ]
    }
   ],
   "source": [
    "#an example of message sending and receiving\n",
    "\n",
    "robot1 = sc.gazebo_swarm.GazeboRobotIface(1)\n",
    "robot2 = sc.gazebo_swarm.GazeboRobotIface(2)\n",
    "robot5 = sc.gazebo_swarm.GazeboRobotIface(5) #this robot is too far to be able to send message to robot0\n",
    "\n",
    "#send to robot 0 something\n",
    "robot1.send_message(0, [0.,100.])\n",
    "robot2.send_message(0, [1.])\n",
    "robot1.send_message(0, [10.,10.,10.])\n",
    "robot5.send_message(0, [-20.])\n",
    "robot1.send_message(0, [10.,10.,15.])\n",
    "\n",
    "#receive messages\n",
    "messages = robot0.get_messages()\n",
    "print messages\n",
    "\n",
    "#receive again - now it's empty\n",
    "messages = robot0.get_messages()\n",
    "print messages"
   ]
  },
  {
   "cell_type": "code",
   "execution_count": null,
   "metadata": {},
   "outputs": [],
   "source": []
  }
 ],
 "metadata": {
  "kernelspec": {
   "display_name": "Python 2",
   "language": "python",
   "name": "python2"
  },
  "language_info": {
   "codemirror_mode": {
    "name": "ipython",
    "version": 2
   },
   "file_extension": ".py",
   "mimetype": "text/x-python",
   "name": "python",
   "nbconvert_exporter": "python",
   "pygments_lexer": "ipython2",
   "version": "2.7.14"
  }
 },
 "nbformat": 4,
 "nbformat_minor": 2
}
